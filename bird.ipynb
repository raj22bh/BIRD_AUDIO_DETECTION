{
  "nbformat": 4,
  "nbformat_minor": 0,
  "metadata": {
    "colab": {
      "provenance": [],
      "gpuType": "T4"
    },
    "kernelspec": {
      "name": "python3",
      "display_name": "Python 3"
    },
    "language_info": {
      "name": "python"
    },
    "accelerator": "GPU"
  },
  "cells": [
    {
      "cell_type": "code",
      "source": [
        "!pip install Flask\n",
        "!pip install flask-ngrok librosa tensorflow scikit-learn\n"
      ],
      "metadata": {
        "id": "cGhyG6C79z2L"
      },
      "execution_count": null,
      "outputs": []
    },
    {
      "cell_type": "code",
      "source": [],
      "metadata": {
        "id": "yOWVV_L1-B8o"
      },
      "execution_count": null,
      "outputs": []
    },
    {
      "cell_type": "code",
      "execution_count": null,
      "metadata": {
        "id": "LAJjyEb7gC-C"
      },
      "outputs": [],
      "source": [
        "# Install Kaggle library\n",
        "!pip install kaggle\n",
        "\n",
        "# Create a directory for the Kaggle configuration file\n",
        "!mkdir -p ~/.kaggle\n",
        "\n",
        "# Move the kaggle.json file into the Kaggle directory\n",
        "!cp kaggle.json ~/.kaggle/\n",
        "\n",
        "# Change the permissions of the file\n",
        "!chmod 600 ~/.kaggle/kaggle.json\n"
      ]
    },
    {
      "cell_type": "code",
      "source": [
        "# Replace 'dataset-owner/dataset-name' with the actual dataset identifier\n",
        "!kaggle datasets download -d vinayshanbhag/bird-song-data-set\n",
        "\n",
        "# Unzip the downloaded dataset\n",
        "!unzip bird-song-data-set.zip\n"
      ],
      "metadata": {
        "id": "v_ZeG5ndkw0l"
      },
      "execution_count": null,
      "outputs": []
    },
    {
      "cell_type": "code",
      "source": [
        "from flask import Flask, render_template, request\n",
        "import numpy as np\n",
        "import pandas as pd\n",
        "import os\n",
        "import tensorflow as tf\n",
        "import librosa\n",
        "import warnings\n",
        "from pyngrok import ngrok\n",
        "\n",
        "# Import Keras-related modules\n",
        "from tensorflow.keras.models import load_model\n",
        "from tensorflow.keras.preprocessing import image\n",
        "from tensorflow.keras.metrics import AUC\n",
        "\n",
        "# Import Scikit-learn module\n",
        "from sklearn.preprocessing import LabelEncoder\n",
        "\n",
        "app = Flask(__name__)\n",
        "\n",
        "\n",
        "\n",
        "final = pd.read_pickle(\"extracted_df.pkl\")\n",
        "y = np.array(final[\"name\"].tolist())\n",
        "le = LabelEncoder()\n",
        "le.fit_transform(y)\n",
        "Model1_ANN = load_model(\"Model1.h5\")\n",
        "\n",
        "\n",
        "def extract_feature(audio_path):\n",
        "    audio_data, sample_rate = librosa.load(audio_path, res_type=\"kaiser_fast\")\n",
        "    feature = librosa.feature.mfcc(y=audio_data, sr=sample_rate, n_mfcc=40)\n",
        "    feature_scaled = np.mean(feature.T, axis=0)\n",
        "    return np.array([feature_scaled])\n",
        "\n",
        "\n",
        "def ANN_print_prediction(audio_path):\n",
        "    prediction_feature = extract_feature(audio_path)\n",
        "    predicted_vector = np.argmax(Model1_ANN.predict(prediction_feature), axis=-1)\n",
        "    predicted_class = le.inverse_transform(predicted_vector)\n",
        "    return predicted_class[0]\n",
        "\n",
        "@app.route(\"/\")\n",
        "@app.route(\"/first\")\n",
        "def first():\n",
        "\treturn render_template('first.html')\n",
        "\n",
        "@app.route(\"/login\")\n",
        "def login():\n",
        "\treturn render_template('login.html')\n",
        "\n",
        "@app.route(\"/index\", methods=['GET'])\n",
        "def index():\n",
        "\treturn render_template(\"index.html\")\n",
        "\n",
        "\n",
        "@app.route(\"/submit\", methods = ['GET', 'POST'])\n",
        "def get_output():\n",
        "\tif request.method == 'POST':\n",
        "\t\taudio_path = request.files['wavfile']\n",
        "\n",
        "\t\timg_path = \"static/tests/\" + audio_path.filename\n",
        "\t\taudio_path.save(img_path)\n",
        "\n",
        "\t\tpredict_result =  ANN_print_prediction(img_path)\n",
        "\n",
        "\treturn render_template(\"prediction.html\", prediction = predict_result, audio_path= img_path)\n",
        "\n",
        "\n",
        "@app.route(\"/chart\")\n",
        "def chart():\n",
        "\treturn render_template('chart.html')\n",
        "\n",
        "if __name__ == '__main__':\n",
        "    app.run(debug=True)\n",
        "\n"
      ],
      "metadata": {
        "colab": {
          "base_uri": "https://localhost:8080/"
        },
        "id": "yVt2DW60l34v",
        "outputId": "9fe2427d-89bf-430d-b2c6-b9d60ab4b522"
      },
      "execution_count": 12,
      "outputs": [
        {
          "output_type": "stream",
          "name": "stdout",
          "text": [
            " * Serving Flask app '__main__'\n",
            " * Debug mode: on\n"
          ]
        },
        {
          "output_type": "stream",
          "name": "stderr",
          "text": [
            "INFO:werkzeug:\u001b[31m\u001b[1mWARNING: This is a development server. Do not use it in a production deployment. Use a production WSGI server instead.\u001b[0m\n",
            " * Running on http://127.0.0.1:5000\n",
            "INFO:werkzeug:\u001b[33mPress CTRL+C to quit\u001b[0m\n",
            "INFO:werkzeug: * Restarting with stat\n"
          ]
        }
      ]
    }
  ]
}